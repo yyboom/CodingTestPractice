{
 "cells": [
  {
   "cell_type": "markdown",
   "metadata": {},
   "source": [
    "> ### EEE2020: Data Structures & Algorithms\n",
    "\n",
    "# Assignment \\# I: Python crash course"
   ]
  },
  {
   "cell_type": "markdown",
   "metadata": {},
   "source": [
    "-------------------------------"
   ]
  },
  {
   "cell_type": "markdown",
   "metadata": {},
   "source": [
    "\n",
    "### *Assignment Instructions:*\n",
    "1. Write a program implementing a particular algorithm to solve a given problem.\n",
    "2. You can use both Korean and Engligh for your report.\n",
    "3. Since this is your first assignment of the course, comprehensive instructions are given for particular problems.  \n",
    " However, note that this might not be the case for further assignments over the course.\n",
    "4. **Analyze the algorithm, theoretically and empirically, and write discussion.** \n",
    "5. **Report your results.**  \n",
    "    - You must do assignments and labs yourself. \n",
    "    - <span style=\"color:red\">**Do not copy any part of your friends’ code.**</span>\n",
    "    - Otherwise, you will get a F grade."
   ]
  },
  {
   "cell_type": "markdown",
   "metadata": {},
   "source": [
    "-----------------"
   ]
  },
  {
   "cell_type": "markdown",
   "metadata": {},
   "source": [
    "<h2><span style=\"color:blue\">[Insert your ID HERE] [Insert your name HERE]</span> </h2>"
   ]
  },
  {
   "cell_type": "code",
   "execution_count": 1,
   "metadata": {},
   "outputs": [
    {
     "name": "stdout",
     "output_type": "stream",
     "text": [
      "This code is written at 2020-09-16 02:11:17.656655\n"
     ]
    }
   ],
   "source": [
    "import datetime\n",
    "print(\"This code is written at \" + str(datetime.datetime.now()))"
   ]
  },
  {
   "cell_type": "markdown",
   "metadata": {},
   "source": [
    "-------------------------------"
   ]
  },
  {
   "cell_type": "markdown",
   "metadata": {},
   "source": [
    "### PROBLEM I (20 POINTS)"
   ]
  },
  {
   "attachments": {},
   "cell_type": "markdown",
   "metadata": {},
   "source": [
    "주어진 문장에서 알파벳이 각 몇 회 등장하는지 횟수를 세고, 가장 자주 등장하는 알파벳 k개를 순서대로 출력하는 함수를 완성하시오.\n",
    "\n",
    "#### 세부 설명 및 조건\n",
    "\n",
    "1. assignment1.py 파일 내부의 $\\texttt{counting-top-k-characters}$ 함수를 완성하시오. ```python def counting_top_k_characters(data, k=None):```\n",
    "2. 문장부호는 세지 않는다.\n",
    "3. 소문자와 대문자는 구분하지 않는다.\n",
    "4. k를 별도로 입력하지 않는 경우, 문장 전체에 있는 알파벳 중 가장 자주 등장하는 순서로 출력한다. 문장에 없는 알파벳은 출력하지 않는다.\n",
    "5. 출력은 \"알파벳 - 횟수\" 형식으로 출력한다. 구체적인 방법은 아래의 예시에 따른다.\n",
    "6. 등장 횟수가 같은 알파벳의 경우 별도의 출력 순서는 없다.\n",
    "7. Built-in Type($\\texttt{dictionary}$, $\\texttt{list}$, $\\texttt{tuple}$, $\\texttt{set}$, $\\texttt{strings}$)만 사용할 수 있다. 추가적인 모듈은 사용할 수 없다. (예, $\\texttt{numpy}$ 등)\n",
    "8. 사용 가능한 Built-in Type의 내장 메소드(method)는 사용할 수 있다."
   ]
  },
  {
   "cell_type": "code",
   "execution_count": 1,
   "metadata": {},
   "outputs": [],
   "source": [
    "data = \"\"\"\n",
    "'Cause I-I-I'm in the stars tonight\n",
    "So watch me bring the fire and set the night alight\n",
    "Shoes on, get up in the morn\n",
    "Cup of milk, let's rock and roll\n",
    "King Kong, kick the drum, rolling on like a rolling stone\n",
    "Sing song when I'm walking home\n",
    "Jump up to the top, LeBron\n",
    "Ding dong, call me on my phone\n",
    "Ice tea and a game of ping pong\n",
    "This is getting heavy\n",
    "Can you hear the bass boom? I'm ready (woo hoo)\n",
    "Life is sweet as honey\n",
    "Yeah, this beat cha-ching like money\n",
    "Disco overload, I'm into that, I'm good to go\n",
    "I'm diamond, you know I glow up\n",
    "Hey, so let's go\n",
    "'Cause I-I-I'm in the stars tonight\n",
    "So watch me bring the fire and set the night alight (hey)\n",
    "Shining through the city with a little funk and soul\n",
    "So I'ma light it up like dynamite, whoa\n",
    "Bring a friend, join the crowd\n",
    "Whoever wanna come along\n",
    "Word up, talk the talk\n",
    "Just move like we Off The Wall\n",
    "Day or night the sky's alight\n",
    "So we dance to the break of dawn\n",
    "Ladies and gentlemen, I got the medicine\n",
    "So you should keep ya eyes on the ball, huh\n",
    "This is getting heavy\n",
    "Can you hear the bass boom? I'm ready (woo hoo)\n",
    "Life is sweet as honey\n",
    "Yeah, this beat cha-ching like money\n",
    "Disco overload, I'm into that, I'm good to go\n",
    "I'm diamond, you know I glow up\n",
    "Let's go\n",
    "\"\"\""
   ]
  },
  {
   "cell_type": "code",
   "execution_count": 2,
   "metadata": {},
   "outputs": [
    {
     "name": "stdout",
     "output_type": "stream",
     "text": [
      "Top 3 alphabetic characters\n",
      "e - 93\n",
      "o - 91\n",
      "i - 83\n"
     ]
    }
   ],
   "source": [
    "from assignment1 import counting_top_k_characters\n",
    "\n",
    "counting_top_k_characters(data, k=3)"
   ]
  },
  {
   "cell_type": "markdown",
   "metadata": {},
   "source": [
    "### Describe and Discuss your answer: "
   ]
  },
  {
   "cell_type": "markdown",
   "metadata": {},
   "source": [
    "Description Here"
   ]
  },
  {
   "cell_type": "markdown",
   "metadata": {},
   "source": [
    "-------------------------------"
   ]
  },
  {
   "cell_type": "markdown",
   "metadata": {},
   "source": [
    "### PROBLEM II (15 POINTS)"
   ]
  },
  {
   "attachments": {},
   "cell_type": "markdown",
   "metadata": {},
   "source": [
    "2차원 행렬간 곱셈 연산을 해주는 함수를 완성하시오.\n",
    "\n",
    "#### 세부 설명 및 조건\n",
    "1. assignment1.py 파일 내부의 $\\texttt{matrix2d-multiplication}$ 함수를 완성하시오. ```python def matrix2d_multiplication(A, B):```\n",
    "2. 입력으로 받는 두 행렬 모두 2차원 $\\texttt{Numpy.ndarray}$ 행렬이다.\n",
    "3. $\\texttt{Numpy}$ 모듈을 사용할 수 있으나 행렬간 곱셈을 직접적으로 하는 메소드는 사용할 수 없다. (예, $\\texttt{matmul}$ 등)\n",
    "4. 2차원 행렬간 곱셈이 불가능한 경우 경고 메세지를 출력한다."
   ]
  },
  {
   "cell_type": "code",
   "execution_count": 8,
   "metadata": {},
   "outputs": [],
   "source": [
    "from assignment1 import matrix2d_multiplication\n",
    "import numpy as np\n",
    "\n",
    "A = np.array(([1,2,3],[1,2,3]))\n",
    "B = np.array(([1,2],[1,2],[1,2]))\n",
    "C = np.array(([1,2],[1,2]))"
   ]
  },
  {
   "cell_type": "code",
   "execution_count": 9,
   "metadata": {},
   "outputs": [
    {
     "name": "stdout",
     "output_type": "stream",
     "text": [
      "1. A X B\n",
      "[[ 6. 12.]\n",
      " [ 6. 12.]]\n",
      "\n",
      "2. A X C\n",
      "Shape Error!\n",
      "None\n"
     ]
    }
   ],
   "source": [
    "print('1. A X B')\n",
    "print(matrix2d_multiplication(A, B))\n",
    "print('\\n2. A X C')\n",
    "print(matrix2d_multiplication(A, C))"
   ]
  },
  {
   "cell_type": "markdown",
   "metadata": {},
   "source": [
    "### Describe your answer: "
   ]
  },
  {
   "cell_type": "markdown",
   "metadata": {},
   "source": [
    "Description Here"
   ]
  },
  {
   "cell_type": "markdown",
   "metadata": {},
   "source": [
    "-------------------------------"
   ]
  },
  {
   "cell_type": "markdown",
   "metadata": {},
   "source": [
    "### PROBLEM III (40 POINTS)"
   ]
  },
  {
   "attachments": {},
   "cell_type": "markdown",
   "metadata": {},
   "source": [
    "분수를 표현하는 클래스를 완성하시오.\n",
    "\n",
    "#### 세부 설명 및 조건\n",
    "1. assignment1.py 파일 내부의 $\\texttt{Fraction}$ 클래스를 완성하시오. ```python class Fraction():```\n",
    "2. 최대공약수를 구하는 $\\texttt{Fraction}$ 클래스의 $\\texttt{gcd}$ 메소드를 완성하시오. ```python def gcd(self, x, y):```\n",
    "   \n",
    "> 최대공약수는 다음과 같은 성질을 만족한다.\n",
    "> 1. gcd(a,b) $\\ge$ 0\n",
    "> 2. gcd(a,b) = gcd(|a|, |b|)\n",
    "> 3. gcd(a,0) = |a|\n",
    "\n",
    "1. 분모($\\texttt{denominator}$)는 0을 가지지 않는다.\n",
    "2. 분수의 출력은 항상 기약분수($\\texttt{Irreducible Fraction}$) 형태로 한다.\n",
    "3. 분수가 음수인 경우 맨 앞에 음의 기호를 붙여 표기한다. 구체적 출력 방식은 아래의 예시를 따른다.\n",
    "> 예시)\n",
    "> - 분자 3, 분모 -6인 경우 : -1/2\n",
    "> - 분자 -6, 분모 -4인 경우 : 3/2\n",
    "> - 분자 -2, 분모 1인 경우 : -2\n",
    "> - 분자 0, 분모 -5인 경우 : 0\n",
    "\n",
    "1. 다음과 같은 클래스간 연산이 모두 가능하도록 한다. 연산의 방식은 분수의 연산과 같다.\n",
    " 2. 덧셈\n",
    " 3. 뺄셈\n",
    " 4. 곱셈\n",
    " 5. 나눗셈\n",
    " 6. 등호\n",
    " 7. 부등호"
   ]
  },
  {
   "cell_type": "code",
   "execution_count": null,
   "metadata": {},
   "outputs": [],
   "source": [
    "from assignment1 import Fraction"
   ]
  },
  {
   "cell_type": "code",
   "execution_count": 2,
   "metadata": {},
   "outputs": [
    {
     "name": "stdout",
     "output_type": "stream",
     "text": [
      "분자 3, 분모 -6인 경우: -1/2 \n",
      "\n",
      "분자 -6, 분모 -4인 경우: 3/2 \n",
      "\n",
      "분자 -2, 분모 1인 경우: -2 \n",
      "\n",
      "분자 0, 분모 -5인 경우: 0 \n",
      "\n",
      "1/7 + 14/(-32) = -33/112 \n",
      "\n",
      "-1/4 - 3/(-8) = 1/8 \n",
      "\n",
      "1/7 x 14/(-32) = -1/16 \n",
      "\n",
      "-1/4 ÷ 3/(-8) = 2/3 \n",
      "\n",
      "(-1)/(-3) == 1/3 : True \n",
      "\n",
      "(-1)/(-3) != 1/3 : False \n",
      "\n",
      "(-1)/(-3) < 1/3 : False \n",
      "\n",
      "(-1)/(-3) ≤ 1/3 : True \n",
      "\n",
      "1/3 > 1/2 : False \n",
      "\n",
      "1/7 ≥ 2/5 : False \n",
      "\n"
     ]
    }
   ],
   "source": [
    "print('분자 3, 분모 -6인 경우: %s \\n' % (Fraction(3, -6)))\n",
    "print('분자 -6, 분모 -4인 경우: %s \\n' % (Fraction(-6, -4)))\n",
    "print('분자 -2, 분모 1인 경우: %s \\n' % (Fraction(-2, 1)))\n",
    "print('분자 0, 분모 -5인 경우: %s \\n' % (Fraction(0, -5)))\n",
    "\n",
    "print('1/7 + 14/(-32) = %s \\n' % (Fraction(1, 7) + Fraction(14, -32)))\n",
    "print('-1/4 - 3/(-8) = %s \\n' % (Fraction(-1, 4) - Fraction(3, -8)))\n",
    "\n",
    "print('1/7 x 14/(-32) = %s \\n' % (Fraction(1, 7) * Fraction(14, -32)))\n",
    "print('-1/4 ÷ 3/(-8) = %s \\n' % (Fraction(-1, 4) / Fraction(3, -8)))\n",
    "\n",
    "print('(-1)/(-3) == 1/3 : %s \\n' % (Fraction(-1, -3) == Fraction(1, 3)))\n",
    "print('(-1)/(-3) != 1/3 : %s \\n' % (Fraction(-1, -3) != Fraction(1, 3)))\n",
    "\n",
    "\n",
    "print('(-1)/(-3) < 1/3 : %s \\n' % (Fraction(-1, -3) < Fraction(1, 3)))\n",
    "print('(-1)/(-3) ≤ 1/3 : %s \\n' % (Fraction(-1, -3) <= Fraction(1, 3)))\n",
    "\n",
    "print('1/3 > 1/2 : %s \\n' % (Fraction(1, 3) > Fraction(1, 2)))\n",
    "print('1/7 ≥ 2/5 : %s \\n' % (Fraction(1, 7) >= Fraction(2, 5)))"
   ]
  },
  {
   "cell_type": "markdown",
   "metadata": {},
   "source": [
    "### Describe your answer: "
   ]
  },
  {
   "cell_type": "markdown",
   "metadata": {},
   "source": [
    "Description Here"
   ]
  },
  {
   "cell_type": "markdown",
   "metadata": {},
   "source": [
    "-------------------------------"
   ]
  },
  {
   "cell_type": "markdown",
   "metadata": {},
   "source": [
    "### PROBLEM IV (25 POINTS)"
   ]
  },
  {
   "attachments": {},
   "cell_type": "markdown",
   "metadata": {},
   "source": [
    "학생들의 성적을 바탕으로 성적분포 막대그래프를 만드는 함수를 완성하고, $\\texttt{Matplotlib.pyplot.bar}$을 이용하여 출력하시오.\n",
    "\n",
    "#### 1. $\\texttt{histogram}$ 함수를 완성하시오\n",
    ">#### 세부 설명 및 조건\n",
    ">1. assignment1.py 파일 내부의 $\\texttt{histogram}$ 함수를 완성하시오. ```python def histogram(grades_tuple, letter_grades, course=None):```\n",
    ">2. 평가는 절대평가로써 평가기준은 아래의 표와 같다.\n",
    ">\n",
    ">| Grade | 점수 |\n",
    ">|:---:|:---:|\n",
    ">| A+ |90점 이상|\n",
    ">| A  |80점 이상|\n",
    ">| B+ |70점 이상|\n",
    ">| B  |60점 이상|\n",
    ">| C+ |50점 이상|\n",
    ">| C  |40점 이상|\n",
    ">| F  |이외|\n",
    ">\n",
    ">3. 함수의 반환값은 각 Grade별 구간에 해당하는 학생 인원수(도수)가 되도록 한다.\n",
    ">4. 함수 입력값에 $\\texttt{course}$가 있는 경우, 해당 과목 점수를 바탕으로 도수를 구한다.\n",
    ">5. 함수 입력값에 $\\texttt{course}$가 없는 경우, 모든 과목의 평균 점수를 바탕으로 도수를 구한다.\n",
    ">6. $\\texttt{Matplotlib}$와 $\\texttt{Numpy}$의 $\\texttt{histogram}$ 메소드는 사용할 수 없다."
   ]
  },
  {
   "cell_type": "code",
   "execution_count": 32,
   "metadata": {},
   "outputs": [
    {
     "data": {
      "text/html": [
       "<div>\n",
       "<style scoped>\n",
       "    .dataframe tbody tr th:only-of-type {\n",
       "        vertical-align: middle;\n",
       "    }\n",
       "\n",
       "    .dataframe tbody tr th {\n",
       "        vertical-align: top;\n",
       "    }\n",
       "\n",
       "    .dataframe thead th {\n",
       "        text-align: right;\n",
       "    }\n",
       "</style>\n",
       "<table border=\"1\" class=\"dataframe\">\n",
       "  <thead>\n",
       "    <tr style=\"text-align: right;\">\n",
       "      <th></th>\n",
       "      <th>Data Structure</th>\n",
       "      <th>Basic Circuit Theory</th>\n",
       "      <th>Digital Logic Design</th>\n",
       "      <th>Electromagnetics</th>\n",
       "    </tr>\n",
       "  </thead>\n",
       "  <tbody>\n",
       "    <tr>\n",
       "      <th>0</th>\n",
       "      <td>70</td>\n",
       "      <td>47</td>\n",
       "      <td>61</td>\n",
       "      <td>47</td>\n",
       "    </tr>\n",
       "    <tr>\n",
       "      <th>1</th>\n",
       "      <td>59</td>\n",
       "      <td>55</td>\n",
       "      <td>37</td>\n",
       "      <td>62</td>\n",
       "    </tr>\n",
       "    <tr>\n",
       "      <th>2</th>\n",
       "      <td>65</td>\n",
       "      <td>100</td>\n",
       "      <td>64</td>\n",
       "      <td>0</td>\n",
       "    </tr>\n",
       "    <tr>\n",
       "      <th>3</th>\n",
       "      <td>48</td>\n",
       "      <td>70</td>\n",
       "      <td>82</td>\n",
       "      <td>84</td>\n",
       "    </tr>\n",
       "    <tr>\n",
       "      <th>4</th>\n",
       "      <td>100</td>\n",
       "      <td>36</td>\n",
       "      <td>78</td>\n",
       "      <td>38</td>\n",
       "    </tr>\n",
       "    <tr>\n",
       "      <th>...</th>\n",
       "      <td>...</td>\n",
       "      <td>...</td>\n",
       "      <td>...</td>\n",
       "      <td>...</td>\n",
       "    </tr>\n",
       "    <tr>\n",
       "      <th>245</th>\n",
       "      <td>72</td>\n",
       "      <td>38</td>\n",
       "      <td>58</td>\n",
       "      <td>9</td>\n",
       "    </tr>\n",
       "    <tr>\n",
       "      <th>246</th>\n",
       "      <td>39</td>\n",
       "      <td>15</td>\n",
       "      <td>47</td>\n",
       "      <td>3</td>\n",
       "    </tr>\n",
       "    <tr>\n",
       "      <th>247</th>\n",
       "      <td>29</td>\n",
       "      <td>55</td>\n",
       "      <td>90</td>\n",
       "      <td>72</td>\n",
       "    </tr>\n",
       "    <tr>\n",
       "      <th>248</th>\n",
       "      <td>55</td>\n",
       "      <td>81</td>\n",
       "      <td>78</td>\n",
       "      <td>42</td>\n",
       "    </tr>\n",
       "    <tr>\n",
       "      <th>249</th>\n",
       "      <td>61</td>\n",
       "      <td>51</td>\n",
       "      <td>63</td>\n",
       "      <td>18</td>\n",
       "    </tr>\n",
       "  </tbody>\n",
       "</table>\n",
       "<p>250 rows × 4 columns</p>\n",
       "</div>"
      ],
      "text/plain": [
       "     Data Structure  Basic Circuit Theory  Digital Logic Design  \\\n",
       "0                70                    47                    61   \n",
       "1                59                    55                    37   \n",
       "2                65                   100                    64   \n",
       "3                48                    70                    82   \n",
       "4               100                    36                    78   \n",
       "..              ...                   ...                   ...   \n",
       "245              72                    38                    58   \n",
       "246              39                    15                    47   \n",
       "247              29                    55                    90   \n",
       "248              55                    81                    78   \n",
       "249              61                    51                    63   \n",
       "\n",
       "     Electromagnetics  \n",
       "0                  47  \n",
       "1                  62  \n",
       "2                   0  \n",
       "3                  84  \n",
       "4                  38  \n",
       "..                ...  \n",
       "245                 9  \n",
       "246                 3  \n",
       "247                72  \n",
       "248                42  \n",
       "249                18  \n",
       "\n",
       "[250 rows x 4 columns]"
      ]
     },
     "execution_count": 32,
     "metadata": {},
     "output_type": "execute_result"
    }
   ],
   "source": [
    "import numpy as np\n",
    "import pandas as pd\n",
    "\n",
    "grades = pd.read_csv('EE_students_grades.csv') # pandas.DataFrame object\n",
    "np_grades_value = grades.values # numpy array\n",
    "np_grades_keys = grades.keys()\n",
    "grades"
   ]
  },
  {
   "cell_type": "code",
   "execution_count": 33,
   "metadata": {
    "scrolled": true
   },
   "outputs": [
    {
     "name": "stdout",
     "output_type": "stream",
     "text": [
      "[ 0.  1.  7. 32. 73. 96. 41.]\n"
     ]
    }
   ],
   "source": [
    "from assignment1 import histogram\n",
    "\n",
    "letter_grades = {'A+':90, 'A':80, 'B+':70, 'B':60, 'C+':50, 'C':40, 'F':0}\n",
    "\n",
    "print(histogram((np_grades_keys, np_grades_value), letter_grades))"
   ]
  },
  {
   "cell_type": "markdown",
   "metadata": {},
   "source": [
    "### Describe your answer: "
   ]
  },
  {
   "cell_type": "markdown",
   "metadata": {},
   "source": [
    "Description Here"
   ]
  },
  {
   "cell_type": "markdown",
   "metadata": {},
   "source": [
    "#### 2. 각 과목별 히스토그램을 출력하시오.\n",
    "\n",
    ">#### 세부 설명 및 조건\n",
    ">1. 아래의 $\\texttt{CODE HERE}$ 부분을 완성하여 막대그래프를 출력하시오.\n",
    ">2. x축은 Grade, y축은 도수가 되도록 그린다.\n",
    ">3. $\\texttt{Matlibplot.pyplot}$의 $\\texttt{subplot}$을 이용하여 그린다.\n",
    ">4. $\\texttt{Matlibplot.pyplot}$의 $\\texttt{bar}$를 사용하여 그린다.\n",
    ">5. 각 축에 해당하는 과목을 제목으로 추가한다.\n",
    ">\n",
    ">#### Reference\n",
    ">- (Matplotlib.pyplot.bar Documentation) https://matplotlib.org/3.1.1/api/_as_gen/matplotlib.pyplot.bar.html"
   ]
  },
  {
   "cell_type": "code",
   "execution_count": 7,
   "metadata": {},
   "outputs": [
    {
     "data": {
      "image/png": "[encoded data removed]",
      "text/plain": [
       "<Figure size 1080x360 with 4 Axes>"
      ]
     },
     "metadata": {
      "needs_background": "light"
     },
     "output_type": "display_data"
    }
   ],
   "source": [
    "import matplotlib.pyplot as plt\n",
    "\n",
    "## CODE HERE ##"
   ]
  },
  {
   "cell_type": "markdown",
   "metadata": {},
   "source": [
    "### Describe your answer: "
   ]
  },
  {
   "cell_type": "markdown",
   "metadata": {},
   "source": [
    "Description Here"
   ]
  },
  {
   "cell_type": "markdown",
   "metadata": {},
   "source": [
    "-------------------------------"
   ]
  }
 ],
 "metadata": {
  "anaconda-cloud": {},
  "kernelspec": {
   "display_name": "base",
   "language": "python",
   "name": "python3"
  },
  "language_info": {
   "codemirror_mode": {
    "name": "ipython",
    "version": 3
   },
   "file_extension": ".py",
   "mimetype": "text/x-python",
   "name": "python",
   "nbconvert_exporter": "python",
   "pygments_lexer": "ipython3",
   "version": "3.8.8 (default, Apr 13 2021, 15:08:07) [MSC v.1916 32 bit (Intel)]"
  },
  "vscode": {
   "interpreter": {
    "hash": "d7288e82646d3164eca24130947288f8779d11454649f2c02a5dfc42af7f324c"
   }
  }
 },
 "nbformat": 4,
 "nbformat_minor": 1
}
